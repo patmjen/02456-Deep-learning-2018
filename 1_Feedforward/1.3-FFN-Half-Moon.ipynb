{
 "cells": [
  {
   "cell_type": "markdown",
   "metadata": {},
   "source": [
    "# Credits\n",
    "> This code is a slight modification to a translation (TensorFlow --> PyTorch) of a previous version of the [02456](http://kurser.dtu.dk/course/02456) course material. \n",
    "> [Original repo link (TensorFlow)](https://github.com/DeepLearningDTU/02456-deep-learning).\n",
    "> [Translated repo link (PyTorch)](https://github.com/munkai/pytorch-tutorial/tree/master/2_intermediate)."
   ]
  },
  {
   "cell_type": "markdown",
   "metadata": {},
   "source": [
    "# Purpose and goals\n",
    "In this notebook you will implement a simple neural network in PyTorch.\n",
    "\n",
    "The building blocks of PyTorch are Tensors, Variables and Operations, with these we can form dynamic computational graphs that form neural networks.\n",
    "In this exercise we'll start right away by defining a logistic regression model using these sipmle building blocks.\n",
    "We'll initially start with a simple 2D and two-class classification problem where the class decision boundary can be visualized.\n",
    "Initially we show that logistic regression can only separate classes linearly.\n",
    "Adding a nonlinear hidden layer to the algorithm permits nonlinear class separation.\n",
    "\n",
    "In this notebook you should:\n",
    "* **First** run the code as is, and see what it does.\n",
    "* **Then** modify the code, following the instructions in the bottom of the notebook.\n",
    "* **Lastly** play a round a bit, and do some small experiments that you come up with.\n",
    "\n",
    "> We assume that you are already familiar with backpropagation (if not please see [Andrej Karpathy](http://cs.stanford.edu/people/karpathy/) or [Michal Nielsen](http://neuralnetworksanddeeplearning.com/chap2.html))."
   ]
  },
  {
   "cell_type": "markdown",
   "metadata": {},
   "source": [
    "# Dependancies and supporting functions\n",
    "Loading dependancies and supporting functions by running the code block below."
   ]
  },
  {
   "cell_type": "code",
   "execution_count": 1,
   "metadata": {},
   "outputs": [],
   "source": [
    "%matplotlib inline\n",
    "import matplotlib\n",
    "import numpy as np\n",
    "import matplotlib.pyplot as plt\n",
    "import sklearn.datasets\n",
    "\n",
    "# Do not worry about the code below for now, it is used for plotting later\n",
    "def plot_decision_boundary(pred_func, X, y):\n",
    "    #from https://github.com/dennybritz/nn-from-scratch/blob/master/nn-from-scratch.ipynb\n",
    "    # Set min and max values and give it some padding\n",
    "    x_min, x_max = X[:, 0].min() - .5, X[:, 0].max() + .5\n",
    "    y_min, y_max = X[:, 1].min() - .5, X[:, 1].max() + .5\n",
    "    \n",
    "    h = 0.01\n",
    "    # Generate a grid of points with distance h between them\n",
    "    xx, yy = np.meshgrid(np.arange(x_min, x_max, h), np.arange(y_min, y_max, h))\n",
    "    \n",
    "    yy = yy.astype('float32')\n",
    "    xx = xx.astype('float32')\n",
    "    # Predict the function value for the whole gid\n",
    "    Z = pred_func(np.c_[xx.ravel(), yy.ravel()])[:,0]\n",
    "    Z = Z.reshape(xx.shape)\n",
    "    # Plot the contour and training examples\n",
    "    plt.figure()\n",
    "    plt.contourf(xx, yy, Z, cmap=plt.cm.RdBu)\n",
    "    plt.scatter(X[:, 0], X[:, 1], c=-y, cmap=plt.cm.Spectral)\n",
    "\n",
    "def onehot(t, num_classes):\n",
    "    out = np.zeros((t.shape[0], num_classes))\n",
    "    for row, col in enumerate(t):\n",
    "        out[row, col] = 1\n",
    "    return out"
   ]
  },
  {
   "cell_type": "markdown",
   "metadata": {
    "collapsed": true
   },
   "source": [
    "# Problem \n",
    "We'll initally demonstrate the that Multi-layer Perceptrons (MLPs) can classify nonlinear problems, whereas simple logistic regression cannot.\n",
    "For ease of visualization and computationl speed we initially experiment on the simple 2D half-moon dataset, visualized below."
   ]
  },
  {
   "cell_type": "code",
   "execution_count": 2,
   "metadata": {},
   "outputs": [
    {
     "name": "stdout",
     "output_type": "stream",
     "text": [
      "(300, 2) (300,)\n"
     ]
    },
    {
     "data": {
      "image/png": "[encoded data removed]",
      "text/plain": [
       "<Figure size 432x288 with 1 Axes>"
      ]
     },
     "metadata": {},
     "output_type": "display_data"
    }
   ],
   "source": [
    "# Generate a dataset and plot it\n",
    "np.random.seed(0)\n",
    "num_samples = 300\n",
    "\n",
    "X, y = sklearn.datasets.make_moons(num_samples, noise=0.20)\n",
    "\n",
    "# define train, validation, and test sets\n",
    "X_tr = X[:100].astype('float32')\n",
    "X_val = X[100:200].astype('float32')\n",
    "X_te = X[200:].astype('float32')\n",
    "\n",
    "# and labels\n",
    "y_tr = y[:100].astype('int32')\n",
    "y_val = y[100:200].astype('int32')\n",
    "y_te = y[200:].astype('int32')\n",
    "\n",
    "plt.scatter(X_tr[:,0], X_tr[:,1], s=40, c=y_tr, cmap=plt.cm.Spectral)\n",
    "\n",
    "print(X.shape, y.shape)\n",
    "\n",
    "num_features = X_tr.shape[-1]\n",
    "num_output = 2"
   ]
  },
  {
   "cell_type": "markdown",
   "metadata": {},
   "source": [
    "# From Logistic Regression to \"Deep Learning\"\n",
    "The code implements logistic regression. In section [__Assignments Half Moon__](#Assignments-Half-Moon) (bottom of this notebook) you are asked to modify the code into a neural network.\n",
    "\n",
    "The standard building block for neural networks are layers.\n",
    "The simplest of which is called a *dense feed forward layer*, and it is computed as follows:\n",
    "\n",
    "$$y = \\mathrm{nonlinearity}(xW + b)$$\n",
    "\n",
    "where $x$ is the input vector, $y$ is the output vector, and $W, b$ are the weights (a matrix and vector respectively).\n",
    "The *dense* part of the name comes from the fact that every element of $x$ contributes to every element of $y$.\n",
    "And the *feed forward* part of the name means that the layer processes each input independently. \n",
    "If we were to draw the layer it would be acyclical.\n",
    "Later we will se layers that break both of these conventions."
   ]
  },
  {
   "cell_type": "markdown",
   "metadata": {},
   "source": [
    "- $x$ has shape `[batch_size, num_features]`,\n",
    "- $W$ has shape `[num_features, num_units]`,\n",
    "- $b$ has `[num_units]`, and\n",
    "- $y$ has then `[batch_size, num_units]`"
   ]
  },
  {
   "cell_type": "markdown",
   "metadata": {},
   "source": [
    "## PyTorch 101\n",
    "\n",
    "In this first exercise we will use basic PyTorch functions so that you can learn how to build it from scratch. This will help you later if you want to build your own custom operations."
   ]
  },
  {
   "cell_type": "code",
   "execution_count": 3,
   "metadata": {},
   "outputs": [],
   "source": [
    "import torch\n",
    "from torch.autograd import Variable\n",
    "from torch.nn.parameter import Parameter\n",
    "import torch.nn as nn\n",
    "import torch.nn.functional as F"
   ]
  },
  {
   "cell_type": "markdown",
   "metadata": {},
   "source": [
    "[`Parameters`](http://pytorch.org/docs/0.1.12/nn.html#torch.nn.Parameter) are [`Variable`](http://pytorch.org/docs/0.1.12/autograd.html#torch.autograd.Variable) subclasses, that have a very special property when used with [`Module`](http://pytorch.org/docs/0.1.12/nn.html#torch.nn.Module)'s - when they’re assigned as `Module` attributes they are automatically added to the list of its parameters, and will appear e.g. in [`.parameters()`](http://pytorch.org/docs/0.1.12/nn.html#torch.nn.Module.parameters) iterator.\n",
    "Assigning a Variable doesn’t have such effect.\n",
    "This is because one might want to cache some temporary state (more on this later) in the model.\n",
    "If there was no such class as `Parameter`, these temporaries would get registered too."
   ]
  },
  {
   "cell_type": "code",
   "execution_count": 105,
   "metadata": {},
   "outputs": [],
   "source": [
    "class Net(nn.Module):\n",
    "\n",
    "    def __init__(self, num_features, num_outputs, num_hidden=None):\n",
    "        super(Net, self).__init__()\n",
    "        # Setting up variables, these variables are weights in your \n",
    "        # network that can be updated while running our graph.\n",
    "        # Notice, to make a hidden layer, the weights need to have the \n",
    "        # following dimensionality:\n",
    "        #   W[number_of_units_going_out, number_of_units_going_in]\n",
    "        #   b[number_of_units_going_out]\n",
    "        # in the example below we have 2 input units (num_features) and 2 output units (num_output)\n",
    "        # so our weights become W[2, 2], b[2]\n",
    "        # if we want to make a hidden layer with 100 units, we need to define the shape of the\n",
    "        # first weight to W[100, 2], b[2] and the shape of the second weight to W[2, 100], b[2]\n",
    "        \n",
    "        if not hasattr(num_hidden, '__iter__'):\n",
    "            num_hidden = [num_hidden]\n",
    "            \n",
    "        self.Weights = nn.ParameterList()\n",
    "        self.Biases = nn.ParameterList()\n",
    "        \n",
    "        num_in = [num_features]\n",
    "        num_in.extend(num_hidden)\n",
    "        num_out = list(num_hidden)\n",
    "        num_out.append(num_outputs)\n",
    "        \n",
    "        for nin, nout in zip(num_in, num_out):\n",
    "            self.Weights.append(Parameter(torch.randn(nout,nin)))\n",
    "            self.Biases.append(Parameter(torch.randn(nout)))\n",
    "        \n",
    "    def forward(self, x):\n",
    "        for W, b in zip(self.Weights[:-1], self.Biases[:-1]):\n",
    "            x = F.linear(x, W, b)\n",
    "            x = F.relu(x)\n",
    "        \n",
    "        x = F.linear(x, self.Weights[-1], self.Biases[-1])\n",
    "        return F.softmax(x, dim=1) # softmax to be performed on the second dimension\n",
    "\n",
    "net = Net(num_features, num_output, [10,10,10])"
   ]
  },
  {
   "cell_type": "markdown",
   "metadata": {},
   "source": [
    "Knowing how to print your tensors is useful"
   ]
  },
  {
   "cell_type": "code",
   "execution_count": 1,
   "metadata": {},
   "outputs": [
    {
     "data": {
      "text/plain": [
       "True"
      ]
     },
     "execution_count": 1,
     "metadata": {},
     "output_type": "execute_result"
    }
   ],
   "source": [
    "hasattr([],'__iter__')"
   ]
  },
  {
   "cell_type": "code",
   "execution_count": 87,
   "metadata": {},
   "outputs": [
    {
     "name": "stdout",
     "output_type": "stream",
     "text": [
      "NAMED PARAMETERS\n",
      "[('Weights.0', Parameter containing:\n",
      "tensor([[0.0425, 0.2808],\n",
      "        [0.7374, 0.0753]], requires_grad=True)), ('Weights.1', Parameter containing:\n",
      "tensor([[-1.3908,  0.9345,  2.3812, -2.3886, -0.6719,  0.3393, -0.5060,  1.0965,\n",
      "          0.5324,  0.6598, -0.8776, -0.1791,  0.6732, -0.9443,  1.1135, -0.7793,\n",
      "          0.7684, -0.6700, -0.3476,  1.1279],\n",
      "        [-0.2054, -0.3021,  0.5274, -1.4188, -0.1348,  0.1636,  0.1267, -0.7591,\n",
      "         -0.1442,  0.6439, -0.7793,  0.6008,  1.0557, -0.4138,  1.3822, -0.9812,\n",
      "          1.0772,  0.7465,  0.0275,  0.5759],\n",
      "        [-1.9873, -1.1006, -1.3090,  0.5331, -0.8361,  0.9956,  0.3232, -0.9197,\n",
      "         -0.3577,  0.9095,  0.7997,  0.0526,  0.6335,  0.5016,  0.0336, -1.2984,\n",
      "          0.0265,  0.4502, -0.9772,  0.9270],\n",
      "        [-0.1216, -0.6090, -1.9223, -0.4643, -2.8784,  1.3540,  0.6962, -0.5865,\n",
      "          0.3800, -0.3600, -0.6246, -1.3082, -0.8999, -0.6661, -0.7977,  0.5660,\n",
      "         -1.1889, -1.0197, -0.0434, -0.0598],\n",
      "        [ 1.1302, -0.4748,  0.0011,  0.2239, -1.1040,  0.3862,  2.0443, -0.7492,\n",
      "          0.6524, -1.8237, -0.3787,  0.4339,  0.9560,  0.3368, -1.5020, -0.4237,\n",
      "         -0.7505,  0.6859,  0.0168, -0.2663],\n",
      "        [ 1.4440, -0.4559,  0.1260,  0.7433, -0.0111,  0.2528, -0.0462,  1.0228,\n",
      "         -0.9950, -0.3235, -0.1561, -1.4303, -1.9011,  0.9288, -0.4388, -0.1590,\n",
      "          1.5638,  0.2007,  0.2707,  2.0312],\n",
      "        [ 0.9464,  0.2718,  1.5123,  1.0347,  0.3233, -1.7739, -1.5975, -0.5977,\n",
      "         -1.0802, -0.2403, -1.1045,  0.1853,  0.3649, -0.4455,  1.9894, -1.1111,\n",
      "          0.3309,  0.3055,  0.8901,  0.5261],\n",
      "        [-0.5040, -0.4159, -0.2019,  1.2428,  0.6546, -0.1439, -1.3150, -0.1319,\n",
      "         -1.3714,  1.5938, -0.0492,  1.2830,  0.2476,  1.4602,  1.2014, -0.1692,\n",
      "          0.1382, -0.2557, -0.8462, -0.1157],\n",
      "        [-1.2611, -0.8674, -2.1724,  1.9810,  0.2328, -0.6138, -0.3078,  1.0232,\n",
      "          3.0855, -0.1635,  0.6218,  0.1266,  0.8082, -1.1066,  0.2834, -0.5059,\n",
      "         -1.4411, -0.3157, -0.2895,  0.1169],\n",
      "        [ 0.0307, -1.8203, -0.0660, -0.5397, -0.5585, -0.7687, -0.8489, -0.6061,\n",
      "         -1.5290, -0.3757, -0.7368, -0.5097, -0.3055,  1.4964,  0.4485,  0.6972,\n",
      "         -0.1832,  1.3129, -1.2193, -0.5479],\n",
      "        [-1.7512,  1.8780,  1.1331,  0.6674,  0.4715, -0.5146,  0.1590, -0.5134,\n",
      "         -0.1811, -0.3796,  0.8642,  1.1672, -0.9827,  0.0017, -0.2259, -1.8910,\n",
      "         -0.4131,  2.0280,  0.2074, -0.7684],\n",
      "        [ 0.1560,  1.2296, -0.7966,  0.9233,  0.3962,  3.0782,  0.5104, -0.3170,\n",
      "         -0.9685, -0.3906,  0.3841, -1.3188,  1.3276,  1.5924,  0.7432,  0.2677,\n",
      "          0.2423,  0.0423,  1.7341, -0.8778],\n",
      "        [-0.2385, -0.3195, -0.9817, -1.5348,  0.4621, -0.2215,  0.2967,  1.2687,\n",
      "         -1.1824, -1.4712, -0.0753,  1.9755, -0.2786,  1.1493,  1.5797,  0.2611,\n",
      "          0.6958,  0.2684, -0.1082,  1.8167],\n",
      "        [-0.6584, -0.3610,  0.0456,  1.6746, -0.3382, -0.3322, -0.8216, -0.6519,\n",
      "         -0.3284,  1.1726, -0.6375, -0.6656,  0.0744,  1.0341, -0.3032, -0.9605,\n",
      "         -0.2912, -0.9060,  1.8586, -0.4264],\n",
      "        [ 0.6555,  0.6290, -0.4296,  0.2139,  1.2162,  0.5024, -0.0825,  1.1172,\n",
      "          0.3719,  0.3231, -0.4826,  0.8289,  0.3964,  1.8181,  0.3902,  2.9741,\n",
      "          0.7781, -0.8837, -0.3034,  0.3265],\n",
      "        [-0.8155, -0.4218,  0.8863,  0.5075, -0.6814,  1.4358, -0.4901,  0.1894,\n",
      "         -1.2110, -0.7072,  0.5877,  0.0235, -1.0296,  1.7177,  0.2693, -1.7766,\n",
      "          0.1015,  0.1345, -0.0518,  0.4977],\n",
      "        [-0.0494, -1.2457, -0.8767,  1.3676, -1.5045, -0.6468,  2.0651, -1.1719,\n",
      "         -0.0752, -0.4236,  0.5646, -0.0150, -0.1963, -0.3034,  0.2967, -0.8077,\n",
      "         -0.8233,  0.6270, -1.4974, -1.1731],\n",
      "        [-1.3648, -0.2123,  1.7664, -1.5848,  0.5576,  0.2876, -0.4370, -0.3097,\n",
      "         -0.2432, -0.9234,  0.0848,  0.0461, -1.1532, -0.7488,  0.4026, -1.1403,\n",
      "          0.5884, -0.6704, -0.2411,  0.9585],\n",
      "        [-0.5238, -0.7391,  0.3112,  0.5932, -0.4364,  1.0044, -0.0210, -0.2961,\n",
      "          0.5512,  1.2120, -1.4797,  0.7218, -1.2795, -0.1808,  0.0131, -1.1365,\n",
      "          0.1991, -0.4661, -0.8804,  0.9712],\n",
      "        [ 0.1392,  1.6011,  0.1592, -0.5533, -0.2292,  0.2369, -0.7441, -1.1342,\n",
      "          0.2190,  0.1717, -0.2644, -0.1052,  0.9299, -1.6141, -0.4069,  1.9272,\n",
      "          0.2042, -0.1458,  0.7781, -0.5901]], requires_grad=True)), ('Biases.0', Parameter containing:\n",
      "tensor([0.0649, 0.0264], requires_grad=True)), ('Biases.1', Parameter containing:\n",
      "tensor([-1.7861,  1.7655,  1.2590,  0.0446, -0.7339, -0.9148, -0.2829,  1.0679,\n",
      "         0.3379, -0.7159, -1.8175,  0.6180, -0.3332,  0.9471,  0.2662, -0.3709,\n",
      "         0.3336,  0.3177,  1.5313, -0.7547], requires_grad=True))]\n",
      "\n",
      "PARAMETERS\n",
      "[Parameter containing:\n",
      "tensor([[0.0425, 0.2808],\n",
      "        [0.7374, 0.0753]], requires_grad=True), Parameter containing:\n",
      "tensor([[-1.3908,  0.9345,  2.3812, -2.3886, -0.6719,  0.3393, -0.5060,  1.0965,\n",
      "          0.5324,  0.6598, -0.8776, -0.1791,  0.6732, -0.9443,  1.1135, -0.7793,\n",
      "          0.7684, -0.6700, -0.3476,  1.1279],\n",
      "        [-0.2054, -0.3021,  0.5274, -1.4188, -0.1348,  0.1636,  0.1267, -0.7591,\n",
      "         -0.1442,  0.6439, -0.7793,  0.6008,  1.0557, -0.4138,  1.3822, -0.9812,\n",
      "          1.0772,  0.7465,  0.0275,  0.5759],\n",
      "        [-1.9873, -1.1006, -1.3090,  0.5331, -0.8361,  0.9956,  0.3232, -0.9197,\n",
      "         -0.3577,  0.9095,  0.7997,  0.0526,  0.6335,  0.5016,  0.0336, -1.2984,\n",
      "          0.0265,  0.4502, -0.9772,  0.9270],\n",
      "        [-0.1216, -0.6090, -1.9223, -0.4643, -2.8784,  1.3540,  0.6962, -0.5865,\n",
      "          0.3800, -0.3600, -0.6246, -1.3082, -0.8999, -0.6661, -0.7977,  0.5660,\n",
      "         -1.1889, -1.0197, -0.0434, -0.0598],\n",
      "        [ 1.1302, -0.4748,  0.0011,  0.2239, -1.1040,  0.3862,  2.0443, -0.7492,\n",
      "          0.6524, -1.8237, -0.3787,  0.4339,  0.9560,  0.3368, -1.5020, -0.4237,\n",
      "         -0.7505,  0.6859,  0.0168, -0.2663],\n",
      "        [ 1.4440, -0.4559,  0.1260,  0.7433, -0.0111,  0.2528, -0.0462,  1.0228,\n",
      "         -0.9950, -0.3235, -0.1561, -1.4303, -1.9011,  0.9288, -0.4388, -0.1590,\n",
      "          1.5638,  0.2007,  0.2707,  2.0312],\n",
      "        [ 0.9464,  0.2718,  1.5123,  1.0347,  0.3233, -1.7739, -1.5975, -0.5977,\n",
      "         -1.0802, -0.2403, -1.1045,  0.1853,  0.3649, -0.4455,  1.9894, -1.1111,\n",
      "          0.3309,  0.3055,  0.8901,  0.5261],\n",
      "        [-0.5040, -0.4159, -0.2019,  1.2428,  0.6546, -0.1439, -1.3150, -0.1319,\n",
      "         -1.3714,  1.5938, -0.0492,  1.2830,  0.2476,  1.4602,  1.2014, -0.1692,\n",
      "          0.1382, -0.2557, -0.8462, -0.1157],\n",
      "        [-1.2611, -0.8674, -2.1724,  1.9810,  0.2328, -0.6138, -0.3078,  1.0232,\n",
      "          3.0855, -0.1635,  0.6218,  0.1266,  0.8082, -1.1066,  0.2834, -0.5059,\n",
      "         -1.4411, -0.3157, -0.2895,  0.1169],\n",
      "        [ 0.0307, -1.8203, -0.0660, -0.5397, -0.5585, -0.7687, -0.8489, -0.6061,\n",
      "         -1.5290, -0.3757, -0.7368, -0.5097, -0.3055,  1.4964,  0.4485,  0.6972,\n",
      "         -0.1832,  1.3129, -1.2193, -0.5479],\n",
      "        [-1.7512,  1.8780,  1.1331,  0.6674,  0.4715, -0.5146,  0.1590, -0.5134,\n",
      "         -0.1811, -0.3796,  0.8642,  1.1672, -0.9827,  0.0017, -0.2259, -1.8910,\n",
      "         -0.4131,  2.0280,  0.2074, -0.7684],\n",
      "        [ 0.1560,  1.2296, -0.7966,  0.9233,  0.3962,  3.0782,  0.5104, -0.3170,\n",
      "         -0.9685, -0.3906,  0.3841, -1.3188,  1.3276,  1.5924,  0.7432,  0.2677,\n",
      "          0.2423,  0.0423,  1.7341, -0.8778],\n",
      "        [-0.2385, -0.3195, -0.9817, -1.5348,  0.4621, -0.2215,  0.2967,  1.2687,\n",
      "         -1.1824, -1.4712, -0.0753,  1.9755, -0.2786,  1.1493,  1.5797,  0.2611,\n",
      "          0.6958,  0.2684, -0.1082,  1.8167],\n",
      "        [-0.6584, -0.3610,  0.0456,  1.6746, -0.3382, -0.3322, -0.8216, -0.6519,\n",
      "         -0.3284,  1.1726, -0.6375, -0.6656,  0.0744,  1.0341, -0.3032, -0.9605,\n",
      "         -0.2912, -0.9060,  1.8586, -0.4264],\n",
      "        [ 0.6555,  0.6290, -0.4296,  0.2139,  1.2162,  0.5024, -0.0825,  1.1172,\n",
      "          0.3719,  0.3231, -0.4826,  0.8289,  0.3964,  1.8181,  0.3902,  2.9741,\n",
      "          0.7781, -0.8837, -0.3034,  0.3265],\n",
      "        [-0.8155, -0.4218,  0.8863,  0.5075, -0.6814,  1.4358, -0.4901,  0.1894,\n",
      "         -1.2110, -0.7072,  0.5877,  0.0235, -1.0296,  1.7177,  0.2693, -1.7766,\n",
      "          0.1015,  0.1345, -0.0518,  0.4977],\n",
      "        [-0.0494, -1.2457, -0.8767,  1.3676, -1.5045, -0.6468,  2.0651, -1.1719,\n",
      "         -0.0752, -0.4236,  0.5646, -0.0150, -0.1963, -0.3034,  0.2967, -0.8077,\n",
      "         -0.8233,  0.6270, -1.4974, -1.1731],\n",
      "        [-1.3648, -0.2123,  1.7664, -1.5848,  0.5576,  0.2876, -0.4370, -0.3097,\n",
      "         -0.2432, -0.9234,  0.0848,  0.0461, -1.1532, -0.7488,  0.4026, -1.1403,\n",
      "          0.5884, -0.6704, -0.2411,  0.9585],\n",
      "        [-0.5238, -0.7391,  0.3112,  0.5932, -0.4364,  1.0044, -0.0210, -0.2961,\n",
      "          0.5512,  1.2120, -1.4797,  0.7218, -1.2795, -0.1808,  0.0131, -1.1365,\n",
      "          0.1991, -0.4661, -0.8804,  0.9712],\n",
      "        [ 0.1392,  1.6011,  0.1592, -0.5533, -0.2292,  0.2369, -0.7441, -1.1342,\n",
      "          0.2190,  0.1717, -0.2644, -0.1052,  0.9299, -1.6141, -0.4069,  1.9272,\n",
      "          0.2042, -0.1458,  0.7781, -0.5901]], requires_grad=True), Parameter containing:\n",
      "tensor([0.0649, 0.0264], requires_grad=True), Parameter containing:\n",
      "tensor([-1.7861,  1.7655,  1.2590,  0.0446, -0.7339, -0.9148, -0.2829,  1.0679,\n",
      "         0.3379, -0.7159, -1.8175,  0.6180, -0.3332,  0.9471,  0.2662, -0.3709,\n",
      "         0.3336,  0.3177,  1.5313, -0.7547], requires_grad=True)]\n",
      "\n"
     ]
    }
   ],
   "source": [
    "# list all parameters in your network\n",
    "print(\"NAMED PARAMETERS\")\n",
    "print(list(net.named_parameters()))\n",
    "print()\n",
    "# the .parameters() method simply gives the Tensors in the list\n",
    "print(\"PARAMETERS\")\n",
    "print(list(net.parameters()))\n",
    "print()"
   ]
  },
  {
   "cell_type": "markdown",
   "metadata": {},
   "source": [
    "# Exploring Parameter\n",
    "\n",
    "Ok, let's investigate what a Parameter/Variable is"
   ]
  },
  {
   "cell_type": "code",
   "execution_count": 21,
   "metadata": {},
   "outputs": [
    {
     "name": "stdout",
     "output_type": "stream",
     "text": [
      "## this is the tensor\n",
      "tensor([[ 0.5300, -1.8522],\n",
      "        [ 0.1941, -0.9039],\n",
      "        [ 0.9302, -2.6269],\n",
      "        [-2.3920, -1.3384],\n",
      "        [ 1.0886,  1.7811],\n",
      "        [ 0.4135, -0.3186],\n",
      "        [ 1.1652, -0.9466],\n",
      "        [-0.1285, -0.7246],\n",
      "        [ 0.1898,  0.7220],\n",
      "        [-1.0045, -1.1218]])\n",
      "\n",
      "## this is the tensor's gradient\n",
      "None\n",
      "\n",
      "## is it a leaf in the graph?\n",
      "True\n"
     ]
    }
   ],
   "source": [
    "param = net.W_1\n",
    "print(\"## this is the tensor\")\n",
    "print(param.data)\n",
    "print(\"\\n## this is the tensor's gradient\")\n",
    "print(param.grad)\n",
    "# notice, the gradient is undefined because we have not yet run a backward pass\n",
    "\n",
    "print(\"\\n## is it a leaf in the graph?\")\n",
    "print(param.is_leaf)"
   ]
  },
  {
   "cell_type": "markdown",
   "metadata": {},
   "source": [
    "## Excluding subgraphs from backward propagation\n",
    "\n",
    "`Variable`s have two properties which allow you to define if a graph is going to be used for training or inference, `requires_grad` and `volatile`.\n",
    "During training we might not want to compute the gradients for all layers, e.g. if we have a pretrained model or embeddings that we do not want to change the values of.\n",
    "To compute gradients we need to store activations and compute the backward pass for the given layer.\n",
    "Setting `requires_grad = False` will allow you to circumvent these properties.\n",
    "If any paramater in an operation / layer requires gradient then the entire output of the operation will also require gradient.\n",
    "\n",
    "The `volatile` property is mostly used when you want to run inference with your model, and if it is set to `True` the entire graph will not require gradient. This means that you expect to never call `.backward()` on the network.\n",
    "\n",
    "See http://pytorch.org/docs/master/notes/autograd.html for an in-depth explanation."
   ]
  },
  {
   "cell_type": "markdown",
   "metadata": {},
   "source": [
    "# Test network\n",
    "\n",
    "To use our network we can simply call our graph, and it will dynamically be created. Here is an example of running the network's forward pass."
   ]
  },
  {
   "cell_type": "code",
   "execution_count": 106,
   "metadata": {},
   "outputs": [
    {
     "name": "stdout",
     "output_type": "stream",
     "text": [
      "input\n",
      "tensor([[ 0.1861,  0.2203],\n",
      "        [ 0.5634,  1.0573],\n",
      "        [ 0.9745, -1.0093],\n",
      "        [-0.6784,  1.2100],\n",
      "        [-0.0043, -0.8449]])\n",
      "\n",
      "output\n",
      "tensor([[1.0000e+00, 7.2443e-29],\n",
      "        [1.0000e+00, 1.6485e-28],\n",
      "        [1.0000e+00, 6.9572e-29],\n",
      "        [1.0000e+00, 9.4237e-37],\n",
      "        [1.0000e+00, 8.3563e-27]], grad_fn=<SoftmaxBackward>)\n"
     ]
    }
   ],
   "source": [
    "X = torch.randn(5, num_features)\n",
    "# the net.__call__ runs some pre-defined functions\n",
    "# both before and after running net.forward()\n",
    "# see http://pytorch.org/docs/master/_modules/torch/nn/modules/module.html\n",
    "\n",
    "print('input')\n",
    "print(X)\n",
    "\n",
    "print('\\noutput')\n",
    "print(net(X))"
   ]
  },
  {
   "cell_type": "code",
   "execution_count": 95,
   "metadata": {},
   "outputs": [
    {
     "name": "stdout",
     "output_type": "stream",
     "text": [
      "> \u001b[0;32m/usr/local/lib/python3.6/site-packages/torch/nn/functional.py\u001b[0m(1024)\u001b[0;36mlinear\u001b[0;34m()\u001b[0m\n",
      "\u001b[0;32m   1022 \u001b[0;31m    \u001b[0;32mif\u001b[0m \u001b[0minput\u001b[0m\u001b[0;34m.\u001b[0m\u001b[0mdim\u001b[0m\u001b[0;34m(\u001b[0m\u001b[0;34m)\u001b[0m \u001b[0;34m==\u001b[0m \u001b[0;36m2\u001b[0m \u001b[0;32mand\u001b[0m \u001b[0mbias\u001b[0m \u001b[0;32mis\u001b[0m \u001b[0;32mnot\u001b[0m \u001b[0;32mNone\u001b[0m\u001b[0;34m:\u001b[0m\u001b[0;34m\u001b[0m\u001b[0m\n",
      "\u001b[0m\u001b[0;32m   1023 \u001b[0;31m        \u001b[0;31m# fused op is marginally faster\u001b[0m\u001b[0;34m\u001b[0m\u001b[0;34m\u001b[0m\u001b[0m\n",
      "\u001b[0m\u001b[0;32m-> 1024 \u001b[0;31m        \u001b[0;32mreturn\u001b[0m \u001b[0mtorch\u001b[0m\u001b[0;34m.\u001b[0m\u001b[0maddmm\u001b[0m\u001b[0;34m(\u001b[0m\u001b[0mbias\u001b[0m\u001b[0;34m,\u001b[0m \u001b[0minput\u001b[0m\u001b[0;34m,\u001b[0m \u001b[0mweight\u001b[0m\u001b[0;34m.\u001b[0m\u001b[0mt\u001b[0m\u001b[0;34m(\u001b[0m\u001b[0;34m)\u001b[0m\u001b[0;34m)\u001b[0m\u001b[0;34m\u001b[0m\u001b[0m\n",
      "\u001b[0m\u001b[0;32m   1025 \u001b[0;31m\u001b[0;34m\u001b[0m\u001b[0m\n",
      "\u001b[0m\u001b[0;32m   1026 \u001b[0;31m    \u001b[0moutput\u001b[0m \u001b[0;34m=\u001b[0m \u001b[0minput\u001b[0m\u001b[0;34m.\u001b[0m\u001b[0mmatmul\u001b[0m\u001b[0;34m(\u001b[0m\u001b[0mweight\u001b[0m\u001b[0;34m.\u001b[0m\u001b[0mt\u001b[0m\u001b[0;34m(\u001b[0m\u001b[0;34m)\u001b[0m\u001b[0;34m)\u001b[0m\u001b[0;34m\u001b[0m\u001b[0m\n",
      "\u001b[0m\n",
      "ipdb> bias\n",
      "Parameter containing:\n",
      "tensor([ 0.7186, -1.0363,  0.8444, -0.0005, -2.9065,  1.1985, -1.4207, -0.7025,\n",
      "         1.0495, -1.7639,  0.8111, -0.8340, -0.1626,  0.7476,  0.3754,  0.4250,\n",
      "        -0.5134,  0.6510,  0.0220, -0.4797], requires_grad=True)\n",
      "ipdb> bias.size()\n",
      "torch.Size([20])\n",
      "ipdb> input.size()\n",
      "torch.Size([5, 2])\n",
      "ipdb> q\n"
     ]
    }
   ],
   "source": [
    "%debug"
   ]
  },
  {
   "cell_type": "markdown",
   "metadata": {},
   "source": [
    "Parameters is a special case of Variable "
   ]
  },
  {
   "cell_type": "code",
   "execution_count": 9,
   "metadata": {},
   "outputs": [
    {
     "name": "stdout",
     "output_type": "stream",
     "text": [
      "tensor([[-0.6431,  0.7317],\n",
      "        [ 0.8081,  0.7096]])\n",
      "None\n",
      "\n",
      "tensor([1.8760, 1.2364])\n",
      "None\n",
      "\n"
     ]
    }
   ],
   "source": [
    "# let's take a look at the gradients\n",
    "for p in net.parameters():\n",
    "    print(p.data)\n",
    "    print(p.grad)\n",
    "    print()"
   ]
  },
  {
   "cell_type": "code",
   "execution_count": 10,
   "metadata": {},
   "outputs": [],
   "source": [
    "X = torch.randn(7, num_features)\n",
    "out = net(X)\n",
    "# we need to give a tensor of gradients to .backward,\n",
    "# we give a dummy tensor\n",
    "out.backward(torch.randn(7, num_output))"
   ]
  },
  {
   "cell_type": "markdown",
   "metadata": {},
   "source": [
    "for details on `.backward()`, see http://pytorch.org/docs/master/autograd.html#torch.autograd.backward"
   ]
  },
  {
   "cell_type": "code",
   "execution_count": 11,
   "metadata": {},
   "outputs": [
    {
     "name": "stdout",
     "output_type": "stream",
     "text": [
      "tensor([[-0.6431,  0.7317],\n",
      "        [ 0.8081,  0.7096]])\n",
      "tensor([[ 0.6755, -1.2402],\n",
      "        [-0.6755,  1.2402]])\n",
      "\n",
      "tensor([1.8760, 1.2364])\n",
      "tensor([ 0.5574, -0.5574])\n",
      "\n"
     ]
    }
   ],
   "source": [
    "# let's take a look at the gradients\n",
    "for p in net.parameters():\n",
    "    print(p.data)\n",
    "    print(p.grad)\n",
    "    print()"
   ]
  },
  {
   "cell_type": "code",
   "execution_count": 107,
   "metadata": {},
   "outputs": [
    {
     "name": "stdout",
     "output_type": "stream",
     "text": [
      "tensor([[-0.7693, -0.2449],\n",
      "        [ 0.1779,  0.1582],\n",
      "        [-1.1326,  0.8483],\n",
      "        [-0.6085, -0.5587],\n",
      "        [ 0.2207, -0.7282],\n",
      "        [ 1.5506,  0.0946],\n",
      "        [ 1.0023,  0.0573],\n",
      "        [ 2.3373,  0.1952],\n",
      "        [ 0.7228,  0.3437],\n",
      "        [ 0.2917, -1.4501]])\n",
      "None\n",
      "tensor([[ 1.3163, -1.1268, -0.0995,  1.2192, -1.1878, -0.6833, -1.2212, -0.9828,\n",
      "          0.1191, -0.6817],\n",
      "        [-2.1076,  1.4303,  0.5210, -0.6991,  0.4341, -0.5048, -0.2145,  1.4359,\n",
      "          0.3837,  0.5177],\n",
      "        [-1.7680,  0.6761, -2.0686, -0.7015,  1.1419, -1.6564, -1.2309,  2.7818,\n",
      "         -0.0854, -1.1891],\n",
      "        [-0.4467,  0.9095,  1.0572, -0.6065, -0.6590, -0.4369, -1.0192,  1.0689,\n",
      "         -1.0859,  0.4080],\n",
      "        [-1.0020, -0.3421, -0.4466,  1.3396, -0.4705, -0.1222, -1.3740,  0.6253,\n",
      "          0.2236,  2.5710],\n",
      "        [-1.2891,  1.3759, -1.4677,  0.1267, -0.1203,  1.3678, -1.0772,  0.2813,\n",
      "          0.2222, -0.0295],\n",
      "        [-1.9859,  1.0119,  0.9441, -1.3797, -0.4560,  0.1243, -0.3041,  0.4369,\n",
      "          0.3101, -1.0088],\n",
      "        [-0.7111,  0.5302,  0.8122, -0.6214,  2.6452, -1.2282, -0.5491,  1.4796,\n",
      "          0.3984, -0.1998],\n",
      "        [ 1.9843, -0.2731,  1.5870, -0.6062, -1.2136,  0.4412,  0.9071,  0.9230,\n",
      "         -0.7052,  0.7674],\n",
      "        [ 0.8557, -0.9695,  0.0684,  0.8904, -0.7758,  0.5209, -0.5063,  0.2606,\n",
      "          2.4712,  1.6664]])\n",
      "None\n",
      "tensor([[-1.3921,  0.5880,  0.1418, -0.1753, -0.5375,  0.2147,  0.5030, -0.8181,\n",
      "          1.8574, -0.7430],\n",
      "        [ 1.4925, -1.2612, -1.4478, -0.1160, -0.2251, -0.2815, -0.9981,  1.0911,\n",
      "          0.6752,  1.2586],\n",
      "        [-1.7129,  0.4789, -0.3499, -0.7767, -0.8955, -0.5274, -0.0353, -1.7364,\n",
      "          2.3894, -0.9744],\n",
      "        [ 0.1690,  0.3764, -0.0134, -1.9933,  1.1257,  0.8289, -2.1128,  1.3294,\n",
      "          0.9018,  0.2254],\n",
      "        [ 0.6365,  2.2430, -0.0483, -1.3340, -1.1775, -0.1745,  1.0627, -1.0847,\n",
      "         -0.3880,  1.0377],\n",
      "        [ 0.8655, -0.8798,  0.1409,  0.1112, -0.0074,  1.8125, -0.9082, -0.6316,\n",
      "          1.1588, -0.0063],\n",
      "        [ 0.2120,  0.4239,  0.4027, -1.3563, -0.2129,  0.9680, -0.4079,  0.7883,\n",
      "          0.2405,  0.7590],\n",
      "        [ 0.4776,  2.0511, -1.2936, -0.7599,  0.4287, -2.0296, -0.2050, -0.3447,\n",
      "         -0.6369,  0.6752],\n",
      "        [-0.1500, -0.2842,  1.8709, -0.2208, -0.5423, -0.6067,  0.4677, -0.7630,\n",
      "         -1.3838,  0.1365],\n",
      "        [-0.4748, -0.1621, -1.2610,  1.2835, -1.0321, -2.2385, -0.8569,  1.3653,\n",
      "          0.7838,  0.4862]])\n",
      "None\n",
      "tensor([[ 0.4880,  1.0573,  1.7830, -0.4626, -1.8168,  1.0301, -1.2535,  1.6340,\n",
      "         -0.0628,  0.7441],\n",
      "        [ 1.5158,  0.0479, -0.6208,  0.7860, -1.0533, -1.1137, -1.1424,  0.9257,\n",
      "         -0.0369, -1.4774]])\n",
      "None\n",
      "tensor([ 3.5624, -0.0671,  0.2144,  0.1524, -0.4765, -0.3629, -2.0295,  0.4136,\n",
      "         0.0048,  0.9988])\n",
      "None\n",
      "tensor([ 1.2530, -0.4396,  0.0455, -0.4194, -0.7248, -0.0986,  0.4088, -1.3305,\n",
      "         0.7605,  0.3066])\n",
      "None\n",
      "tensor([-0.4174, -1.9442,  0.0960, -1.5744,  0.9264,  1.1056, -1.8382,  0.5204,\n",
      "         0.4097, -1.5425])\n",
      "None\n",
      "tensor([ 0.2964, -1.1862])\n",
      "None\n"
     ]
    }
   ],
   "source": [
    "# ok, let's try and zero the accumulated gradients\n",
    "net.zero_grad()\n",
    "for p in net.parameters():\n",
    "    print(p.data)\n",
    "    print(p.grad)"
   ]
  },
  {
   "cell_type": "markdown",
   "metadata": {},
   "source": [
    "# Loss function\n",
    "\n",
    "Let's define a custom loss function to compute how good our graph is doing."
   ]
  },
  {
   "cell_type": "code",
   "execution_count": 101,
   "metadata": {},
   "outputs": [],
   "source": [
    "def cross_entropy(ys, ts):\n",
    "    # computing cross entropy per sample\n",
    "    cross_entropy = -torch.sum(ts * torch.log(ys), dim=1, keepdim=False)\n",
    "    # averaging over samples\n",
    "    return torch.mean(cross_entropy)"
   ]
  },
  {
   "cell_type": "markdown",
   "metadata": {},
   "source": [
    "To train our neural network we need to update the parameters in direction of the negative gradient w.r.t the cost function we defined earlier.\n",
    "We can use [`torch.optim`](http://pytorch.org/docs/master/optim.html) to get the gradients with some update rule for all parameters in the network.\n",
    "\n",
    "Heres a small animation of gradient descent: http://imgur.com/a/Hqolp, which also illustrates which challenges optimizers might face, e.g. saddle points."
   ]
  },
  {
   "cell_type": "code",
   "execution_count": 116,
   "metadata": {},
   "outputs": [],
   "source": [
    "import torch.optim as optim\n",
    "\n",
    "optimizer = optim.Adam(net.parameters(), lr=0.01, weight_decay=0.0)"
   ]
  },
  {
   "cell_type": "markdown",
   "metadata": {},
   "source": [
    "Next, we make the prediction functions, such that we can get an accuracy measure over a batch"
   ]
  },
  {
   "cell_type": "code",
   "execution_count": 103,
   "metadata": {},
   "outputs": [],
   "source": [
    "def accuracy(ys, ts):\n",
    "    # making a one-hot encoded vector of correct (1) and incorrect (0) predictions\n",
    "    correct_prediction = torch.eq(torch.max(ys, 1)[1], torch.max(ts, 1)[1])\n",
    "    # averaging the one-hot encoded vector\n",
    "    return torch.mean(correct_prediction.float())"
   ]
  },
  {
   "cell_type": "markdown",
   "metadata": {},
   "source": [
    "The next step is to utilize our `optimizer` repeatedly in order to optimize our weights `W_1` and `b_1` to make the best possible linear seperation of the half moon dataset."
   ]
  },
  {
   "cell_type": "code",
   "execution_count": 117,
   "metadata": {
    "scrolled": false
   },
   "outputs": [
    {
     "name": "stdout",
     "output_type": "stream",
     "text": [
      "Epoch 0, Train Cost: 0.000\tVal Cost: 0.305\t Val acc: 0.970\n",
      "Epoch 100, Train Cost: 0.000\tVal Cost: 0.362\t Val acc: 0.970\n",
      "Epoch 200, Train Cost: 0.000\tVal Cost: 0.386\t Val acc: 0.970\n",
      "Epoch 300, Train Cost: 0.000\tVal Cost: 0.407\t Val acc: 0.970\n",
      "Epoch 400, Train Cost: 0.000\tVal Cost: 0.425\t Val acc: 0.970\n",
      "Epoch 500, Train Cost: 0.000\tVal Cost: 0.439\t Val acc: 0.970\n",
      "Epoch 600, Train Cost: 0.000\tVal Cost: 0.452\t Val acc: 0.970\n",
      "Epoch 700, Train Cost: 0.000\tVal Cost: 0.463\t Val acc: 0.970\n",
      "Epoch 800, Train Cost: 0.000\tVal Cost: 0.472\t Val acc: 0.970\n",
      "Epoch 900, Train Cost: 0.000\tVal Cost: 0.481\t Val acc: 0.970\n",
      "\n",
      "Test Cost: 0.204\tTest Accuracy: 0.980\n"
     ]
    },
    {
     "data": {
      "image/png": "[encoded data removed]",
      "text/plain": [
       "<Figure size 432x288 with 1 Axes>"
      ]
     },
     "metadata": {},
     "output_type": "display_data"
    },
    {
     "data": {
      "image/png": "[encoded data removed]",
      "text/plain": [
       "<Figure size 432x288 with 1 Axes>"
      ]
     },
     "metadata": {},
     "output_type": "display_data"
    },
    {
     "data": {
      "image/png": "[encoded data removed]",
      "text/plain": [
       "<Figure size 432x288 with 1 Axes>"
      ]
     },
     "metadata": {},
     "output_type": "display_data"
    },
    {
     "data": {
      "image/png": "[encoded data removed]",
      "text/plain": [
       "<Figure size 432x288 with 1 Axes>"
      ]
     },
     "metadata": {},
     "output_type": "display_data"
    }
   ],
   "source": [
    "# number of training passses\n",
    "num_epochs = 1000\n",
    "# store loss and accuracy for information\n",
    "train_losses, val_losses, train_accs, val_accs = [], [], [], []\n",
    "\n",
    "def pred(X):\n",
    "    \"\"\" Compute graph's prediction and return numpy array\n",
    "    \n",
    "    Parameters\n",
    "    ----------\n",
    "    X : numpy.ndarray\n",
    "    \n",
    "    Returns\n",
    "    -------\n",
    "    numpy.ndarray\n",
    "    \"\"\"\n",
    "    X = Variable(torch.from_numpy(X))\n",
    "    y = net(X)\n",
    "    return y.data.numpy()\n",
    "\n",
    "# plot boundary on testset before training session\n",
    "plot_decision_boundary(lambda x: pred(x), X_te, y_te)\n",
    "plt.title(\"Untrained Classifier\")\n",
    "\n",
    "# training loop\n",
    "for e in range(num_epochs):\n",
    "    # get training input and expected output as torch Variables and make sure type is correct\n",
    "    tr_input = Variable(torch.from_numpy(X_tr))\n",
    "    tr_targets = Variable(torch.from_numpy(onehot(y_tr, num_output))).float()\n",
    "    \n",
    "    # zeroize accumulated gradients in parameters\n",
    "    optimizer.zero_grad()\n",
    "    # predict by running forward pass\n",
    "    tr_output = net(tr_input)\n",
    "    # compute cross entropy loss\n",
    "    tr_loss = cross_entropy(tr_output, tr_targets)\n",
    "    # compute gradients given loss\n",
    "    tr_loss.backward()\n",
    "    # update the parameters given the computed gradients\n",
    "    optimizer.step()\n",
    "    train_acc = accuracy(tr_output, tr_targets)\n",
    "    \n",
    "    # store training loss\n",
    "    train_losses.append(tr_loss.data.numpy())\n",
    "    train_accs.append(train_acc)\n",
    "    \n",
    "    # get validation input and expected output as torch Variables and make sure type is correct\n",
    "    val_input = Variable(torch.from_numpy(X_val))\n",
    "    val_targets = Variable(torch.from_numpy(onehot(y_val, num_output))).float()\n",
    "    \n",
    "    # predict with validation input\n",
    "    val_output = net(val_input)\n",
    "    # compute loss and accuracy\n",
    "    val_loss = cross_entropy(val_output, val_targets)\n",
    "    val_acc = accuracy(val_output, val_targets)\n",
    "    \n",
    "    # store loss and accuracy\n",
    "    val_losses.append(val_loss.data.numpy())\n",
    "    val_accs.append(val_acc.data.numpy())\n",
    "    \n",
    "    if e % 100 == 0:\n",
    "        print(\"Epoch %i, \"\n",
    "              \"Train Cost: %0.3f\"\n",
    "              \"\\tVal Cost: %0.3f\"\n",
    "              \"\\t Val acc: %0.3f\" % (e, \n",
    "                                     train_losses[-1],\n",
    "                                     val_losses[-1],\n",
    "                                     val_accs[-1]))\n",
    "        \n",
    "        \n",
    "# get test input and expected output\n",
    "te_input = Variable(torch.from_numpy(X_te))\n",
    "te_targets = Variable(torch.from_numpy(onehot(y_te, num_output))).float()\n",
    "# predict on testset\n",
    "te_output = net(te_input)\n",
    "# compute loss and accuracy\n",
    "te_loss = cross_entropy(te_output, te_targets)\n",
    "te_acc = accuracy(te_output, te_targets)\n",
    "print(\"\\nTest Cost: %0.3f\\tTest Accuracy: %0.3f\" % (te_loss.data.numpy(), te_acc.data.numpy()))\n",
    "\n",
    "# plot boundary on testset after training session\n",
    "plot_decision_boundary(lambda x: pred(x), X_te, y_te)\n",
    "plt.title(\"Trained Classifier\")\n",
    "\n",
    "plt.figure()\n",
    "epoch = np.arange(len(train_losses))\n",
    "plt.plot(epoch, train_losses, 'r', label='Train Loss')\n",
    "plt.plot(epoch, val_losses, 'b', label='Val Loss')\n",
    "plt.legend()\n",
    "plt.xlabel('Updates')\n",
    "plt.ylabel('Loss')\n",
    "plt.show()\n",
    "\n",
    "plt.figure()\n",
    "plt.plot(epoch, train_accs, 'r', label='Train Acc')\n",
    "plt.plot(epoch, val_accs, 'b', label='Val Acc')\n",
    "plt.legend()\n",
    "plt.xlabel('Updates')\n",
    "plt.ylabel('Accuracy')\n",
    "plt.show()"
   ]
  },
  {
   "cell_type": "markdown",
   "metadata": {},
   "source": [
    "# Assignments\n",
    "\n",
    "1. A linear logistic classifier is only able to create a linear decision boundary. Change the Logistic classifier into a (nonlinear) Neural network by inserting a dense hidden layer between the input and output layers of the model\n",
    " \n",
    "2. Experiment with multiple hidden layers or more / less hidden units. What happens to the decision boundary?\n",
    " \n",
    "3. Overfitting: When increasing the number of hidden layers / units the neural network will fit the training data better by creating a highly nonlinear decision boundary. If the model is to complex it will often generalize poorly to new data (validation and test set). Can you observe this from the training and validation errors? \n",
    " \n",
    "4. We used the vanilla stocastic gradient descent algorithm for parameter updates. This is usually slow to converge and more sophisticated pseudo-second-order methods usually works better. Try changing the optimizer to [adam or momentum](http://pytorch.org/docs/master/optim.html#torch.optim.Adam)"
   ]
  },
  {
   "cell_type": "markdown",
   "metadata": {},
   "source": [
    "When you're done, continue to the next part of this lab."
   ]
  }
 ],
 "metadata": {
  "kernelspec": {
   "display_name": "Python 3",
   "language": "python",
   "name": "python3"
  },
  "language_info": {
   "codemirror_mode": {
    "name": "ipython",
    "version": 3
   },
   "file_extension": ".py",
   "mimetype": "text/x-python",
   "name": "python",
   "nbconvert_exporter": "python",
   "pygments_lexer": "ipython3",
   "version": "3.6.5"
  }
 },
 "nbformat": 4,
 "nbformat_minor": 1
}
